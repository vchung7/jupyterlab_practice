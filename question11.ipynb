{
 "cells": [
  {
   "cell_type": "markdown",
   "id": "9454072d-041b-4c12-9da1-c2a6f1b3b4f2",
   "metadata": {},
   "source": [
    "# Vivian Chung\n",
    "Notebook for assignment 7"
   ]
  },
  {
   "cell_type": "code",
   "execution_count": 1,
   "id": "31bcd92c-88f7-4a5a-ad66-c734b948ef97",
   "metadata": {},
   "outputs": [
    {
     "name": "stdout",
     "output_type": "stream",
     "text": [
      "5.0\n"
     ]
    }
   ],
   "source": [
    "def compute_mean(numberlist):\n",
    "    return print(sum(numberlist) / len(numberlist))\n",
    "\n",
    "    if not numberlist:\n",
    "        return None  # if list empty, return nothing\n",
    "\n",
    "result = compute_mean([2, 4, 6, 8])\n"
   ]
  },
  {
   "cell_type": "markdown",
   "id": "11c49f6b-e448-404a-87d9-63e1ee161dc8",
   "metadata": {},
   "source": [
    "The above code takes a list of numbers in a variable named **numberlist** and outputs the mean value.  It uses the following equation:\n",
    "\n",
    "$$ \\bar{x} = \\frac{x_1+x_2+ \\cdots +x_n}{n} = \\frac{1}{n} \\left( \\sum_{i=1}^{n} x_i\\right) $$\n"
   ]
  },
  {
   "cell_type": "code",
   "execution_count": null,
   "id": "8c59e2a4-247d-402d-a2e6-857567e83563",
   "metadata": {},
   "outputs": [],
   "source": []
  }
 ],
 "metadata": {
  "kernelspec": {
   "display_name": "Python [conda env:base] *",
   "language": "python",
   "name": "conda-base-py"
  },
  "language_info": {
   "codemirror_mode": {
    "name": "ipython",
    "version": 3
   },
   "file_extension": ".py",
   "mimetype": "text/x-python",
   "name": "python",
   "nbconvert_exporter": "python",
   "pygments_lexer": "ipython3",
   "version": "3.12.3"
  }
 },
 "nbformat": 4,
 "nbformat_minor": 5
}
